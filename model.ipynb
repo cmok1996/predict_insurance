{
 "cells": [
  {
   "cell_type": "code",
   "execution_count": 1,
   "metadata": {},
   "outputs": [],
   "source": [
    "import pandas as pd\n",
    "df = pd.read_csv(\"TravelInsurancePrediction.csv\")"
   ]
  },
  {
   "cell_type": "code",
   "execution_count": 2,
   "metadata": {
    "scrolled": true
   },
   "outputs": [],
   "source": [
    "df = df.loc[:,[\"Age\",\"Employment Type\",\"GraduateOrNot\",\"AnnualIncome\",\"FamilyMembers\",\"ChronicDiseases\",\"FrequentFlyer\",\"EverTravelledAbroad\",\"TravelInsurance\"]]\n"
   ]
  },
  {
   "cell_type": "code",
   "execution_count": 3,
   "metadata": {},
   "outputs": [],
   "source": [
    "df = df.dropna()"
   ]
  },
  {
   "cell_type": "code",
   "execution_count": 4,
   "metadata": {},
   "outputs": [],
   "source": [
    "X = df.loc[:,[\"Age\",\"Employment Type\",\"GraduateOrNot\",\"AnnualIncome\",\"FamilyMembers\",\"ChronicDiseases\",\"FrequentFlyer\",\"EverTravelledAbroad\"]]\n",
    "Y = df.loc[:,[\"TravelInsurance\"]]"
   ]
  },
  {
   "cell_type": "code",
   "execution_count": 5,
   "metadata": {},
   "outputs": [],
   "source": [
    "from sklearn.model_selection import train_test_split\n",
    "X_train, X_test, Y_train, Y_test = train_test_split(X,Y)"
   ]
  },
  {
   "cell_type": "code",
   "execution_count": 6,
   "metadata": {},
   "outputs": [
    {
     "data": {
      "text/plain": [
       "DecisionTreeClassifier()"
      ]
     },
     "execution_count": 6,
     "metadata": {},
     "output_type": "execute_result"
    }
   ],
   "source": [
    "from sklearn import tree\n",
    "model = tree.DecisionTreeClassifier()\n",
    "model.fit(X_train, Y_train)    #train the model"
   ]
  },
  {
   "cell_type": "code",
   "execution_count": 7,
   "metadata": {},
   "outputs": [],
   "source": [
    "pred = model.predict(X_test)   #run model with test set"
   ]
  },
  {
   "cell_type": "code",
   "execution_count": 8,
   "metadata": {},
   "outputs": [
    {
     "data": {
      "text/plain": [
       "497"
      ]
     },
     "execution_count": 8,
     "metadata": {},
     "output_type": "execute_result"
    }
   ],
   "source": [
    "len(Y_test)"
   ]
  },
  {
   "cell_type": "code",
   "execution_count": 9,
   "metadata": {},
   "outputs": [
    {
     "data": {
      "text/plain": [
       "TravelInsurance    173\n",
       "dtype: int64"
      ]
     },
     "execution_count": 9,
     "metadata": {},
     "output_type": "execute_result"
    }
   ],
   "source": [
    "Y_test.sum()"
   ]
  },
  {
   "cell_type": "code",
   "execution_count": 10,
   "metadata": {},
   "outputs": [
    {
     "name": "stdout",
     "output_type": "stream",
     "text": [
      "model: DecisionTreeClassifier\n",
      "[[278  46]\n",
      " [ 66 107]]\n",
      "Accuracy is: 0.7746478873239436\n",
      "F1 is: 0.656441717791411\n",
      "Precision is: 0.6993464052287581\n",
      "Recall is: 0.6184971098265896\n"
     ]
    }
   ],
   "source": [
    "from sklearn.metrics import confusion_matrix\n",
    "import numpy as np\n",
    "from sklearn.metrics import f1_score, precision_score, recall_score, accuracy_score\n",
    "cm = confusion_matrix(Y_test, pred)\n",
    "#cm2 = np.array([cm[1], cm[0]])\n",
    "print(\"model: DecisionTreeClassifier\")\n",
    "print(cm)\n",
    "f1 = f1_score(Y_test, pred)\n",
    "prec = precision_score(Y_test, pred)\n",
    "rec = recall_score(Y_test, pred)\n",
    "acc = accuracy_score(Y_test, pred)\n",
    "print(\"Accuracy is:\", acc)\n",
    "print(\"F1 is:\", f1)\n",
    "print(\"Precision is:\", prec)\n",
    "print(\"Recall is:\", rec)\n"
   ]
  },
  {
   "cell_type": "code",
   "execution_count": 11,
   "metadata": {
    "scrolled": true
   },
   "outputs": [
    {
     "name": "stderr",
     "output_type": "stream",
     "text": [
      "C:\\Users\\Shi Jia Cheng\\AppData\\Local\\Temp\\ipykernel_12392\\3880957393.py:4: DataConversionWarning: A column-vector y was passed when a 1d array was expected. Please change the shape of y to (n_samples,), for example using ravel().\n",
      "  model.fit(X_train, Y_train)\n"
     ]
    },
    {
     "name": "stdout",
     "output_type": "stream",
     "text": [
      "model: RandomForestClassifier\n",
      "[[290  34]\n",
      " [ 65 108]]\n",
      "Accuracy is: 0.8008048289738431\n",
      "F1 is: 0.6857142857142857\n",
      "Precision is: 0.7605633802816901\n",
      "Recall is: 0.6242774566473989\n"
     ]
    }
   ],
   "source": [
    "from sklearn import ensemble\n",
    "model = ensemble.RandomForestClassifier()\n",
    "#model = ensemble.GradientBoostingClassifier()\n",
    "model.fit(X_train, Y_train) \n",
    "pred = model.predict(X_test)\n",
    "cm = confusion_matrix(Y_test, pred)\n",
    "\n",
    "\n",
    "print(\"model: RandomForestClassifier\")\n",
    "print(cm)\n",
    "f1 = f1_score(Y_test, pred)\n",
    "prec = precision_score(Y_test, pred)\n",
    "rec = recall_score(Y_test, pred)\n",
    "acc = accuracy_score(Y_test, pred)\n",
    "print(\"Accuracy is:\", acc)\n",
    "print(\"F1 is:\", f1)\n",
    "print(\"Precision is:\", prec)\n",
    "print(\"Recall is:\", rec)"
   ]
  },
  {
   "cell_type": "code",
   "execution_count": 12,
   "metadata": {
    "scrolled": true
   },
   "outputs": [
    {
     "name": "stdout",
     "output_type": "stream",
     "text": [
      "model: GradientBoostingClassifier\n",
      "[[309  15]\n",
      " [ 76  97]]\n",
      "Accuracy is: 0.8169014084507042\n",
      "F1 is: 0.6807017543859649\n",
      "Precision is: 0.8660714285714286\n",
      "Recall is: 0.5606936416184971\n"
     ]
    },
    {
     "name": "stderr",
     "output_type": "stream",
     "text": [
      "C:\\ProgramData\\Anaconda3\\lib\\site-packages\\sklearn\\ensemble\\_gb.py:494: DataConversionWarning: A column-vector y was passed when a 1d array was expected. Please change the shape of y to (n_samples, ), for example using ravel().\n",
      "  y = column_or_1d(y, warn=True)\n"
     ]
    }
   ],
   "source": [
    "model = ensemble.GradientBoostingClassifier()\n",
    "model.fit(X_train, Y_train) \n",
    "pred = model.predict(X_test)\n",
    "cm = confusion_matrix(Y_test, pred)\n",
    "print(\"model: GradientBoostingClassifier\")\n",
    "print(cm)\n",
    "f1 = f1_score(Y_test, pred)\n",
    "prec = precision_score(Y_test, pred)\n",
    "rec = recall_score(Y_test, pred)\n",
    "acc = accuracy_score(Y_test, pred)\n",
    "print(\"Accuracy is:\", acc)\n",
    "print(\"F1 is:\", f1)\n",
    "print(\"Precision is:\", prec)\n",
    "print(\"Recall is:\", rec)"
   ]
  },
  {
   "cell_type": "code",
   "execution_count": 13,
   "metadata": {},
   "outputs": [
    {
     "name": "stdout",
     "output_type": "stream",
     "text": [
      "model: LogisticRegression\n",
      "[[324   0]\n",
      " [173   0]]\n",
      "Accuracy is: 0.6519114688128773\n",
      "F1 is: 0.0\n",
      "Precision is: 0.0\n",
      "Recall is: 0.0\n"
     ]
    },
    {
     "name": "stderr",
     "output_type": "stream",
     "text": [
      "C:\\ProgramData\\Anaconda3\\lib\\site-packages\\sklearn\\utils\\validation.py:993: DataConversionWarning: A column-vector y was passed when a 1d array was expected. Please change the shape of y to (n_samples, ), for example using ravel().\n",
      "  y = column_or_1d(y, warn=True)\n",
      "C:\\ProgramData\\Anaconda3\\lib\\site-packages\\sklearn\\metrics\\_classification.py:1318: UndefinedMetricWarning: Precision is ill-defined and being set to 0.0 due to no predicted samples. Use `zero_division` parameter to control this behavior.\n",
      "  _warn_prf(average, modifier, msg_start, len(result))\n"
     ]
    }
   ],
   "source": [
    "from sklearn import linear_model\n",
    "model = linear_model.LogisticRegression()   #regression\n",
    "model.fit(X_train, Y_train) \n",
    "pred = model.predict(X_test)\n",
    "cm = confusion_matrix(Y_test, pred)\n",
    "print(\"model: LogisticRegression\")\n",
    "print(cm)\n",
    "f1 = f1_score(Y_test, pred)\n",
    "prec = precision_score(Y_test, pred)\n",
    "rec = recall_score(Y_test, pred)\n",
    "acc = accuracy_score(Y_test, pred)\n",
    "print(\"Accuracy is:\", acc)\n",
    "print(\"F1 is:\", f1)\n",
    "print(\"Precision is:\", prec)\n",
    "print(\"Recall is:\", rec)"
   ]
  }
 ],
 "metadata": {
  "kernelspec": {
   "display_name": "Python 3 (ipykernel)",
   "language": "python",
   "name": "python3"
  },
  "language_info": {
   "codemirror_mode": {
    "name": "ipython",
    "version": 3
   },
   "file_extension": ".py",
   "mimetype": "text/x-python",
   "name": "python",
   "nbconvert_exporter": "python",
   "pygments_lexer": "ipython3",
   "version": "3.9.12"
  }
 },
 "nbformat": 4,
 "nbformat_minor": 2
}
